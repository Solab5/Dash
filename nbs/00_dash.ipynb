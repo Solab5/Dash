{
 "cells": [
  {
   "cell_type": "markdown",
   "metadata": {},
   "source": [
    "# A simple Dashboard \n",
    "\n",
    "> A simple dash board using plotly and streamlit"
   ]
  },
  {
   "cell_type": "code",
   "execution_count": null,
   "metadata": {},
   "outputs": [],
   "source": [
    "#| default_exp dash"
   ]
  },
  {
   "cell_type": "code",
   "execution_count": null,
   "metadata": {},
   "outputs": [],
   "source": [
    "#| hide\n",
    "from nbdev.showdoc import *"
   ]
  },
  {
   "cell_type": "code",
   "execution_count": null,
   "metadata": {},
   "outputs": [],
   "source": [
    "#| export \n",
    "def style_negative(v, props=''):\n",
    "    \"\"\" Style negative values in dataframe\"\"\"\n",
    "    try: \n",
    "        return props if v < 0 else None\n",
    "    except:\n",
    "        pass\n",
    "    "
   ]
  },
  {
   "cell_type": "code",
   "execution_count": null,
   "metadata": {},
   "outputs": [],
   "source": [
    "#| export\n",
    "def style_positive(v, props=''):\n",
    "    \"\"\"Style positive values in dataframe\"\"\"\n",
    "    try: \n",
    "        return props if v > 0 else None\n",
    "    except:\n",
    "        pass    \n",
    "    "
   ]
  },
  {
   "cell_type": "code",
   "execution_count": null,
   "metadata": {},
   "outputs": [],
   "source": [
    "#| export\n",
    "def audience_simple(country):\n",
    "    \"\"\"Show top represented countries\"\"\"\n",
    "    if country == 'US':\n",
    "        return 'USA'\n",
    "    elif country == 'IN':\n",
    "        return 'India'\n",
    "    else:\n",
    "        return 'Other'"
   ]
  },
  {
   "cell_type": "markdown",
   "metadata": {},
   "source": [
    "## Importing libraries"
   ]
  },
  {
   "cell_type": "markdown",
   "metadata": {},
   "source": [
    "The first thing for any datascience project is to import all the necessary libraries, let's do that."
   ]
  },
  {
   "cell_type": "code",
   "execution_count": null,
   "metadata": {},
   "outputs": [],
   "source": [
    "#| exports\n",
    "import streamlit as st\n",
    "import pandas as pd\n",
    "import plotly.express as px\n",
    "import numpy as np\n",
    "import plotly.graph_objects as go\n",
    "from datetime import datetime "
   ]
  },
  {
   "cell_type": "markdown",
   "metadata": {},
   "source": [
    "## Loading the data"
   ]
  },
  {
   "cell_type": "markdown",
   "metadata": {},
   "source": [
    "The first step after importing the necessary libraries is to read the data. For this case, our data is stored as a comma separated file. So we use `.read_csv()` method from the pandas library aliased as pd to read the file as a dataframe. \n",
    "\n",
    "The first row of `df_agg` file has totals and we donot need it, let's use pandas .iloc method to get rid of it. This cool method specifies the number of rows and columns to include. The range before the comma specifies the rows whereas the range after the comma specifies the columns.\n",
    "\n",
    "NB: we can use `.head()` method to have a sense of what the data is all about. This by default prints the first five rows of the dataframe. "
   ]
  },
  {
   "cell_type": "code",
   "execution_count": null,
   "metadata": {},
   "outputs": [],
   "source": [
    "#| exports\n",
    "\n",
    "def load_data():\n",
    "    df_agg = pd.read_csv(\"/home/morris/gradio/Dash/files/Aggregated_Metrics_By_Video.csv\").iloc[1:,:] \n",
    "    df_agg.columns = ['Video','Video title','Video publish time','Comments added','Shares','Dislikes','Likes',\n",
    "                          'Subscribers lost','Subscribers gained','RPM(USD)','CPM(USD)','Average % viewed','Average view duration',\n",
    "                          'Views','Watch time (hours)','Subscribers','Your estimated revenue (USD)','Impressions','Impressions ctr(%)']\n",
    "\n",
    "    df_agg['Video publish time'] = pd.to_datetime(df_agg['Video publish time'])\n",
    "    df_agg['Average view duration'] = df_agg['Average view duration'].apply(lambda x: datetime.strptime(x,'%H:%M:%S'))\n",
    "    df_agg['Avg_duration_sec'] = df_agg['Average view duration'].apply(lambda x: x.second + x.minute*60 + x.hour*3600)\n",
    "    df_agg['Engagement_ratio'] =  (df_agg['Comments added'] + df_agg['Shares'] +df_agg['Dislikes'] + df_agg['Likes']) /df_agg.Views\n",
    "    df_agg['Views / sub gained'] = df_agg['Views'] / df_agg['Subscribers gained']\n",
    "    df_agg.sort_values('Video publish time', ascending = False, inplace = True)\n",
    "\n",
    "    df_agg_sub = pd.read_csv(\"/home/morris/gradio/Dash/files/Aggregated_Metrics_By_Country_And_Subscriber_Status.csv\")\n",
    "    df_comments = pd.read_csv(\"/home/morris/gradio/Dash/files/All_Comments_Final.csv\")\n",
    "    df_time = pd.read_csv(\"/home/morris/gradio/Dash/files/Video_Performance_Over_Time.csv\")\n",
    "    df_time['Date'] = pd.to_datetime(df_time['Date'])\n",
    "    \n",
    "    return df_agg, df_agg_sub, df_comments, df_time"
   ]
  },
  {
   "cell_type": "markdown",
   "metadata": {},
   "source": [
    "## create dataframes from the function "
   ]
  },
  {
   "cell_type": "code",
   "execution_count": null,
   "metadata": {},
   "outputs": [],
   "source": [
    "#| exports\n",
    "df_agg, df_agg_sub, df_comments, df_time = load_data()"
   ]
  },
  {
   "cell_type": "markdown",
   "metadata": {},
   "source": [
    "## additional data engineering for aggregated data "
   ]
  },
  {
   "cell_type": "code",
   "execution_count": null,
   "metadata": {},
   "outputs": [
    {
     "name": "stderr",
     "output_type": "stream",
     "text": [
      "/tmp/ipykernel_222/4187031829.py:4: FutureWarning: DataFrame.mean and DataFrame.median with numeric_only=None will include datetime64 and datetime64tz columns in a future version.\n",
      "  median_agg = df_agg_diff[df_agg_diff['Video publish time'] >= metric_date_12mo].median()\n",
      "/tmp/ipykernel_222/4187031829.py:4: FutureWarning: The default value of numeric_only in DataFrame.median is deprecated. In a future version, it will default to False. In addition, specifying 'numeric_only=None' is deprecated. Select only valid columns or specify the value of numeric_only to silence this warning.\n",
      "  median_agg = df_agg_diff[df_agg_diff['Video publish time'] >= metric_date_12mo].median()\n"
     ]
    }
   ],
   "source": [
    "#| exports\n",
    "df_agg_diff = df_agg.copy()\n",
    "metric_date_12mo = df_agg_diff['Video publish time'].max() - pd.DateOffset(months =12)\n",
    "median_agg = df_agg_diff[df_agg_diff['Video publish time'] >= metric_date_12mo].median()"
   ]
  },
  {
   "cell_type": "markdown",
   "metadata": {},
   "source": [
    "## create differences from the median for values "
   ]
  },
  {
   "cell_type": "code",
   "execution_count": null,
   "metadata": {},
   "outputs": [],
   "source": [
    "#| exports\n",
    "numeric_cols = np.array((df_agg_diff.dtypes == 'float64') | (df_agg_diff.dtypes == 'int64'))\n",
    "df_agg_diff.iloc[:,numeric_cols] = (df_agg_diff.iloc[:,numeric_cols] - median_agg).div(median_agg)"
   ]
  },
  {
   "cell_type": "markdown",
   "metadata": {},
   "source": [
    "## merge daily data with publish data to get delta "
   ]
  },
  {
   "cell_type": "code",
   "execution_count": null,
   "metadata": {},
   "outputs": [],
   "source": [
    "#| exports\n",
    "df_time_diff = pd.merge(df_time, df_agg.loc[:,['Video','Video publish time']], left_on ='External Video ID', right_on = 'Video')\n",
    "df_time_diff['days_published'] = (df_time_diff['Date'] - df_time_diff['Video publish time']).dt.days"
   ]
  },
  {
   "cell_type": "markdown",
   "metadata": {},
   "source": [
    "## get last 12 months of data rather than all data "
   ]
  },
  {
   "cell_type": "code",
   "execution_count": null,
   "metadata": {},
   "outputs": [],
   "source": [
    "#| exports\n",
    "date_12mo = df_agg['Video publish time'].max() - pd.DateOffset(months =12)\n",
    "df_time_diff_yr = df_time_diff[df_time_diff['Video publish time'] >= date_12mo]"
   ]
  },
  {
   "cell_type": "markdown",
   "metadata": {},
   "source": [
    "## get daily view data (first 30), median & percentiles "
   ]
  },
  {
   "cell_type": "code",
   "execution_count": null,
   "metadata": {},
   "outputs": [],
   "source": [
    "#| exports\n",
    "views_days = pd.pivot_table(df_time_diff_yr,index= 'days_published',values ='Views', aggfunc = [np.mean,np.median,lambda x: np.percentile(x, 80),lambda x: np.percentile(x, 20)]).reset_index()\n",
    "views_days.columns = ['days_published','mean_views','median_views','80pct_views','20pct_views']\n",
    "views_days = views_days[views_days['days_published'].between(0,30)]\n",
    "views_cumulative = views_days.loc[:,['days_published','median_views','80pct_views','20pct_views']] \n",
    "views_cumulative.loc[:,['median_views','80pct_views','20pct_views']] = views_cumulative.loc[:,['median_views','80pct_views','20pct_views']].cumsum()"
   ]
  },
  {
   "cell_type": "markdown",
   "metadata": {},
   "source": [
    "# Building Dashboad"
   ]
  },
  {
   "cell_type": "code",
   "execution_count": null,
   "metadata": {},
   "outputs": [],
   "source": [
    "#| exports\n",
    "add_sidebar = st.sidebar.selectbox('Aggregate or Individual Video', ('Aggregate Metrics','Individual Video Analysis'))"
   ]
  },
  {
   "cell_type": "code",
   "execution_count": null,
   "metadata": {},
   "outputs": [
    {
     "name": "stderr",
     "output_type": "stream",
     "text": [
      "/tmp/ipykernel_222/184790940.py:9: FutureWarning: DataFrame.mean and DataFrame.median with numeric_only=None will include datetime64 and datetime64tz columns in a future version.\n",
      "  metric_medians6mo = df_agg_metrics[df_agg_metrics['Video publish time'] >= metric_date_6mo].median()\n",
      "/tmp/ipykernel_222/184790940.py:10: FutureWarning: DataFrame.mean and DataFrame.median with numeric_only=None will include datetime64 and datetime64tz columns in a future version.\n",
      "  metric_medians12mo = df_agg_metrics[df_agg_metrics['Video publish time'] >= metric_date_12mo].median()\n",
      "/tmp/ipykernel_222/184790940.py:28: FutureWarning: The default value of numeric_only in DataFrame.median is deprecated. In a future version, it will default to False. In addition, specifying 'numeric_only=None' is deprecated. Select only valid columns or specify the value of numeric_only to silence this warning.\n",
      "  df_agg_numeric_lst = df_agg_diff_final.median().index.tolist()\n"
     ]
    }
   ],
   "source": [
    "#Show individual metrics \n",
    "if add_sidebar == 'Aggregate Metrics':\n",
    "    st.write(\"Solab5 YouTube Aggregated Data\")\n",
    "    \n",
    "    df_agg_metrics = df_agg[['Video publish time','Views','Likes','Subscribers','Shares','Comments added','RPM(USD)','Average % viewed',\n",
    "                             'Avg_duration_sec', 'Engagement_ratio','Views / sub gained']]\n",
    "    metric_date_6mo = df_agg_metrics['Video publish time'].max() - pd.DateOffset(months =6)\n",
    "    metric_date_12mo = df_agg_metrics['Video publish time'].max() - pd.DateOffset(months =12)\n",
    "    metric_medians6mo = df_agg_metrics[df_agg_metrics['Video publish time'] >= metric_date_6mo].median()\n",
    "    metric_medians12mo = df_agg_metrics[df_agg_metrics['Video publish time'] >= metric_date_12mo].median()\n",
    "    \n",
    "    col1, col2, col3, col4, col5 = st.columns(5)\n",
    "    columns = [col1, col2, col3, col4, col5]\n",
    "    \n",
    "    count = 0\n",
    "    for i in metric_medians6mo.index:\n",
    "        with columns[count]:\n",
    "            delta = (metric_medians6mo[i] - metric_medians12mo[i])/metric_medians12mo[i]\n",
    "            st.metric(label= i, value = round(metric_medians6mo[i],1), delta = \"{:.2%}\".format(delta))\n",
    "            count += 1\n",
    "            if count >= 5:\n",
    "                count = 0\n",
    "    #get date information / trim to relevant data \n",
    "    df_agg_diff['Publish_date'] = df_agg_diff['Video publish time'].apply(lambda x: x.date())\n",
    "    df_agg_diff_final = df_agg_diff.loc[:,['Video title','Publish_date','Views','Likes','Subscribers','Shares','Comments added','RPM(USD)','Average % viewed',\n",
    "                             'Avg_duration_sec', 'Engagement_ratio','Views / sub gained']]\n",
    "    \n",
    "    df_agg_numeric_lst = df_agg_diff_final.median().index.tolist()\n",
    "    df_to_pct = {}\n",
    "    for i in df_agg_numeric_lst:\n",
    "        df_to_pct[i] = '{:.1%}'.format\n",
    "    \n",
    "    st.dataframe(df_agg_diff_final.style.hide().applymap(style_negative, props='color:red;').applymap(style_positive, props='color:green;').format(df_to_pct))\n",
    "    "
   ]
  },
  {
   "cell_type": "code",
   "execution_count": null,
   "metadata": {},
   "outputs": [],
   "source": [
    "if add_sidebar == 'Individual Video Analysis':\n",
    "    videos = tuple(df_agg['Video title'])\n",
    "    st.write(\"Individual Video Performance\")\n",
    "    video_select = st.selectbox('Pick a Video:', videos)\n",
    "    \n",
    "    agg_filtered = df_agg[df_agg['Video title'] == video_select]\n",
    "    agg_sub_filtered = df_agg_sub[df_agg_sub['Video Title'] == video_select]\n",
    "    agg_sub_filtered['Country'] = agg_sub_filtered['Country Code'].apply(audience_simple)\n",
    "    agg_sub_filtered.sort_values('Is Subscribed', inplace= True)   \n",
    "    \n",
    "    fig = px.bar(agg_sub_filtered, x ='Views', y='Is Subscribed', color ='Country', orientation ='h')\n",
    "    #order axis \n",
    "    st.plotly_chart(fig)\n",
    "    \n",
    "    agg_time_filtered = df_time_diff[df_time_diff['Video Title'] == video_select]\n",
    "    first_30 = agg_time_filtered[agg_time_filtered['days_published'].between(0,30)]\n",
    "    first_30 = first_30.sort_values('days_published')\n",
    "    \n",
    "    \n",
    "    fig2 = go.Figure()\n",
    "    fig2.add_trace(go.Scatter(x=views_cumulative['days_published'], y=views_cumulative['20pct_views'],\n",
    "                    mode='lines',\n",
    "                    name='20th percentile', line=dict(color='purple', dash ='dash')))\n",
    "    fig2.add_trace(go.Scatter(x=views_cumulative['days_published'], y=views_cumulative['median_views'],\n",
    "                        mode='lines',\n",
    "                        name='50th percentile', line=dict(color='black', dash ='dash')))\n",
    "    fig2.add_trace(go.Scatter(x=views_cumulative['days_published'], y=views_cumulative['80pct_views'],\n",
    "                        mode='lines', \n",
    "                        name='80th percentile', line=dict(color='royalblue', dash ='dash')))\n",
    "    fig2.add_trace(go.Scatter(x=first_30['days_published'], y=first_30['Views'].cumsum(),\n",
    "                        mode='lines', \n",
    "                        name='Current Video' ,line=dict(color='firebrick',width=8)))\n",
    "        \n",
    "    fig2.update_layout(title='View comparison first 30 days',\n",
    "                   xaxis_title='Days Since Published',\n",
    "                   yaxis_title='Cumulative views')\n",
    "    \n",
    "    st.plotly_chart(fig2)"
   ]
  },
  {
   "cell_type": "code",
   "execution_count": null,
   "metadata": {},
   "outputs": [],
   "source": [
    "#| hide\n",
    "import nbdev; nbdev.nbdev_export()"
   ]
  },
  {
   "cell_type": "code",
   "execution_count": null,
   "metadata": {},
   "outputs": [],
   "source": []
  }
 ],
 "metadata": {
  "kernelspec": {
   "display_name": "Python 3 (ipykernel)",
   "language": "python",
   "name": "python3"
  }
 },
 "nbformat": 4,
 "nbformat_minor": 4
}
